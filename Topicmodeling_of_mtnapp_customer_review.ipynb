{
  "nbformat": 4,
  "nbformat_minor": 0,
  "metadata": {
    "colab": {
      "name": "Topicmodeling of mtnapp customer review.ipynb",
      "provenance": [],
      "collapsed_sections": [],
      "include_colab_link": true
    },
    "language_info": {
      "name": "python"
    },
    "kernelspec": {
      "name": "python3",
      "display_name": "Python 3"
    }
  },
  "cells": [
    {
      "cell_type": "markdown",
      "metadata": {
        "id": "view-in-github",
        "colab_type": "text"
      },
      "source": [
        "<a href=\"https://colab.research.google.com/github/muhammedmusa16/code/blob/main/Topicmodeling_of_mtnapp_customer_review.ipynb\" target=\"_parent\"><img src=\"https://colab.research.google.com/assets/colab-badge.svg\" alt=\"Open In Colab\"/></a>"
      ]
    },
    {
      "cell_type": "markdown",
      "metadata": {
        "id": "Clgok1W6xqx7"
      },
      "source": [
        "# Topic Modeling "
      ]
    },
    {
      "cell_type": "markdown",
      "metadata": {
        "id": "Jeqk9Wu2yFmz"
      },
      "source": [
        "**Super simple topic modeling using both the Non Negative Matrix Factorization (NMF) and Latent Dirichlet Allocation (LDA) algorithms.**\n",
        "\n",
        "Textual data can be loaded from a Google Sheet and topics derived from NMF and LDA can be generated. Only simple form entry is required to set:\n",
        "\n",
        "* the name of the google sheet\n",
        "* the number of topics to be generated\n",
        "* the number of top words and documents that must be printed out for each topic\n",
        "\n",
        "\n",
        "\n"
      ]
    },
    {
      "cell_type": "code",
      "metadata": {
        "colab": {
          "base_uri": "https://localhost:8080/"
        },
        "id": "ZXeSmCDcw0AT",
        "outputId": "1025137f-9370-4ac4-dfa8-cc254dad9ca5"
      },
      "source": [
        "#@title Install pyLDAVis (specific version for Google Collab)\n",
        "!pip install pyLDAvis==2.1.2"
      ],
      "execution_count": null,
      "outputs": [
        {
          "output_type": "stream",
          "name": "stdout",
          "text": [
            "Collecting pyLDAvis==2.1.2\n",
            "  Downloading pyLDAvis-2.1.2.tar.gz (1.6 MB)\n",
            "\u001b[?25l\r\u001b[K     |▏                               | 10 kB 17.0 MB/s eta 0:00:01\r\u001b[K     |▍                               | 20 kB 22.6 MB/s eta 0:00:01\r\u001b[K     |▋                               | 30 kB 25.3 MB/s eta 0:00:01\r\u001b[K     |▉                               | 40 kB 11.6 MB/s eta 0:00:01\r\u001b[K     |█                               | 51 kB 13.5 MB/s eta 0:00:01\r\u001b[K     |█▏                              | 61 kB 15.6 MB/s eta 0:00:01\r\u001b[K     |█▍                              | 71 kB 14.9 MB/s eta 0:00:01\r\u001b[K     |█▋                              | 81 kB 15.6 MB/s eta 0:00:01\r\u001b[K     |█▉                              | 92 kB 16.8 MB/s eta 0:00:01\r\u001b[K     |██                              | 102 kB 15.3 MB/s eta 0:00:01\r\u001b[K     |██▎                             | 112 kB 15.3 MB/s eta 0:00:01\r\u001b[K     |██▍                             | 122 kB 15.3 MB/s eta 0:00:01\r\u001b[K     |██▋                             | 133 kB 15.3 MB/s eta 0:00:01\r\u001b[K     |██▉                             | 143 kB 15.3 MB/s eta 0:00:01\r\u001b[K     |███                             | 153 kB 15.3 MB/s eta 0:00:01\r\u001b[K     |███▎                            | 163 kB 15.3 MB/s eta 0:00:01\r\u001b[K     |███▌                            | 174 kB 15.3 MB/s eta 0:00:01\r\u001b[K     |███▋                            | 184 kB 15.3 MB/s eta 0:00:01\r\u001b[K     |███▉                            | 194 kB 15.3 MB/s eta 0:00:01\r\u001b[K     |████                            | 204 kB 15.3 MB/s eta 0:00:01\r\u001b[K     |████▎                           | 215 kB 15.3 MB/s eta 0:00:01\r\u001b[K     |████▌                           | 225 kB 15.3 MB/s eta 0:00:01\r\u001b[K     |████▊                           | 235 kB 15.3 MB/s eta 0:00:01\r\u001b[K     |████▉                           | 245 kB 15.3 MB/s eta 0:00:01\r\u001b[K     |█████                           | 256 kB 15.3 MB/s eta 0:00:01\r\u001b[K     |█████▎                          | 266 kB 15.3 MB/s eta 0:00:01\r\u001b[K     |█████▌                          | 276 kB 15.3 MB/s eta 0:00:01\r\u001b[K     |█████▊                          | 286 kB 15.3 MB/s eta 0:00:01\r\u001b[K     |█████▉                          | 296 kB 15.3 MB/s eta 0:00:01\r\u001b[K     |██████                          | 307 kB 15.3 MB/s eta 0:00:01\r\u001b[K     |██████▎                         | 317 kB 15.3 MB/s eta 0:00:01\r\u001b[K     |██████▌                         | 327 kB 15.3 MB/s eta 0:00:01\r\u001b[K     |██████▊                         | 337 kB 15.3 MB/s eta 0:00:01\r\u001b[K     |███████                         | 348 kB 15.3 MB/s eta 0:00:01\r\u001b[K     |███████                         | 358 kB 15.3 MB/s eta 0:00:01\r\u001b[K     |███████▎                        | 368 kB 15.3 MB/s eta 0:00:01\r\u001b[K     |███████▌                        | 378 kB 15.3 MB/s eta 0:00:01\r\u001b[K     |███████▊                        | 389 kB 15.3 MB/s eta 0:00:01\r\u001b[K     |████████                        | 399 kB 15.3 MB/s eta 0:00:01\r\u001b[K     |████████▏                       | 409 kB 15.3 MB/s eta 0:00:01\r\u001b[K     |████████▎                       | 419 kB 15.3 MB/s eta 0:00:01\r\u001b[K     |████████▌                       | 430 kB 15.3 MB/s eta 0:00:01\r\u001b[K     |████████▊                       | 440 kB 15.3 MB/s eta 0:00:01\r\u001b[K     |█████████                       | 450 kB 15.3 MB/s eta 0:00:01\r\u001b[K     |█████████▏                      | 460 kB 15.3 MB/s eta 0:00:01\r\u001b[K     |█████████▍                      | 471 kB 15.3 MB/s eta 0:00:01\r\u001b[K     |█████████▌                      | 481 kB 15.3 MB/s eta 0:00:01\r\u001b[K     |█████████▊                      | 491 kB 15.3 MB/s eta 0:00:01\r\u001b[K     |██████████                      | 501 kB 15.3 MB/s eta 0:00:01\r\u001b[K     |██████████▏                     | 512 kB 15.3 MB/s eta 0:00:01\r\u001b[K     |██████████▍                     | 522 kB 15.3 MB/s eta 0:00:01\r\u001b[K     |██████████▋                     | 532 kB 15.3 MB/s eta 0:00:01\r\u001b[K     |██████████▊                     | 542 kB 15.3 MB/s eta 0:00:01\r\u001b[K     |███████████                     | 552 kB 15.3 MB/s eta 0:00:01\r\u001b[K     |███████████▏                    | 563 kB 15.3 MB/s eta 0:00:01\r\u001b[K     |███████████▍                    | 573 kB 15.3 MB/s eta 0:00:01\r\u001b[K     |███████████▋                    | 583 kB 15.3 MB/s eta 0:00:01\r\u001b[K     |███████████▊                    | 593 kB 15.3 MB/s eta 0:00:01\r\u001b[K     |████████████                    | 604 kB 15.3 MB/s eta 0:00:01\r\u001b[K     |████████████▏                   | 614 kB 15.3 MB/s eta 0:00:01\r\u001b[K     |████████████▍                   | 624 kB 15.3 MB/s eta 0:00:01\r\u001b[K     |████████████▋                   | 634 kB 15.3 MB/s eta 0:00:01\r\u001b[K     |████████████▉                   | 645 kB 15.3 MB/s eta 0:00:01\r\u001b[K     |█████████████                   | 655 kB 15.3 MB/s eta 0:00:01\r\u001b[K     |█████████████▏                  | 665 kB 15.3 MB/s eta 0:00:01\r\u001b[K     |█████████████▍                  | 675 kB 15.3 MB/s eta 0:00:01\r\u001b[K     |█████████████▋                  | 686 kB 15.3 MB/s eta 0:00:01\r\u001b[K     |█████████████▉                  | 696 kB 15.3 MB/s eta 0:00:01\r\u001b[K     |██████████████                  | 706 kB 15.3 MB/s eta 0:00:01\r\u001b[K     |██████████████▏                 | 716 kB 15.3 MB/s eta 0:00:01\r\u001b[K     |██████████████▍                 | 727 kB 15.3 MB/s eta 0:00:01\r\u001b[K     |██████████████▋                 | 737 kB 15.3 MB/s eta 0:00:01\r\u001b[K     |██████████████▉                 | 747 kB 15.3 MB/s eta 0:00:01\r\u001b[K     |███████████████                 | 757 kB 15.3 MB/s eta 0:00:01\r\u001b[K     |███████████████▎                | 768 kB 15.3 MB/s eta 0:00:01\r\u001b[K     |███████████████▍                | 778 kB 15.3 MB/s eta 0:00:01\r\u001b[K     |███████████████▋                | 788 kB 15.3 MB/s eta 0:00:01\r\u001b[K     |███████████████▉                | 798 kB 15.3 MB/s eta 0:00:01\r\u001b[K     |████████████████                | 808 kB 15.3 MB/s eta 0:00:01\r\u001b[K     |████████████████▎               | 819 kB 15.3 MB/s eta 0:00:01\r\u001b[K     |████████████████▌               | 829 kB 15.3 MB/s eta 0:00:01\r\u001b[K     |████████████████▋               | 839 kB 15.3 MB/s eta 0:00:01\r\u001b[K     |████████████████▉               | 849 kB 15.3 MB/s eta 0:00:01\r\u001b[K     |█████████████████               | 860 kB 15.3 MB/s eta 0:00:01\r\u001b[K     |█████████████████▎              | 870 kB 15.3 MB/s eta 0:00:01\r\u001b[K     |█████████████████▌              | 880 kB 15.3 MB/s eta 0:00:01\r\u001b[K     |█████████████████▋              | 890 kB 15.3 MB/s eta 0:00:01\r\u001b[K     |█████████████████▉              | 901 kB 15.3 MB/s eta 0:00:01\r\u001b[K     |██████████████████              | 911 kB 15.3 MB/s eta 0:00:01\r\u001b[K     |██████████████████▎             | 921 kB 15.3 MB/s eta 0:00:01\r\u001b[K     |██████████████████▌             | 931 kB 15.3 MB/s eta 0:00:01\r\u001b[K     |██████████████████▊             | 942 kB 15.3 MB/s eta 0:00:01\r\u001b[K     |██████████████████▉             | 952 kB 15.3 MB/s eta 0:00:01\r\u001b[K     |███████████████████             | 962 kB 15.3 MB/s eta 0:00:01\r\u001b[K     |███████████████████▎            | 972 kB 15.3 MB/s eta 0:00:01\r\u001b[K     |███████████████████▌            | 983 kB 15.3 MB/s eta 0:00:01\r\u001b[K     |███████████████████▊            | 993 kB 15.3 MB/s eta 0:00:01\r\u001b[K     |████████████████████            | 1.0 MB 15.3 MB/s eta 0:00:01\r\u001b[K     |████████████████████            | 1.0 MB 15.3 MB/s eta 0:00:01\r\u001b[K     |████████████████████▎           | 1.0 MB 15.3 MB/s eta 0:00:01\r\u001b[K     |████████████████████▌           | 1.0 MB 15.3 MB/s eta 0:00:01\r\u001b[K     |████████████████████▊           | 1.0 MB 15.3 MB/s eta 0:00:01\r\u001b[K     |█████████████████████           | 1.1 MB 15.3 MB/s eta 0:00:01\r\u001b[K     |█████████████████████▏          | 1.1 MB 15.3 MB/s eta 0:00:01\r\u001b[K     |█████████████████████▎          | 1.1 MB 15.3 MB/s eta 0:00:01\r\u001b[K     |█████████████████████▌          | 1.1 MB 15.3 MB/s eta 0:00:01\r\u001b[K     |█████████████████████▊          | 1.1 MB 15.3 MB/s eta 0:00:01\r\u001b[K     |██████████████████████          | 1.1 MB 15.3 MB/s eta 0:00:01\r\u001b[K     |██████████████████████▏         | 1.1 MB 15.3 MB/s eta 0:00:01\r\u001b[K     |██████████████████████▍         | 1.1 MB 15.3 MB/s eta 0:00:01\r\u001b[K     |██████████████████████▌         | 1.1 MB 15.3 MB/s eta 0:00:01\r\u001b[K     |██████████████████████▊         | 1.1 MB 15.3 MB/s eta 0:00:01\r\u001b[K     |███████████████████████         | 1.2 MB 15.3 MB/s eta 0:00:01\r\u001b[K     |███████████████████████▏        | 1.2 MB 15.3 MB/s eta 0:00:01\r\u001b[K     |███████████████████████▍        | 1.2 MB 15.3 MB/s eta 0:00:01\r\u001b[K     |███████████████████████▌        | 1.2 MB 15.3 MB/s eta 0:00:01\r\u001b[K     |███████████████████████▊        | 1.2 MB 15.3 MB/s eta 0:00:01\r\u001b[K     |████████████████████████        | 1.2 MB 15.3 MB/s eta 0:00:01\r\u001b[K     |████████████████████████▏       | 1.2 MB 15.3 MB/s eta 0:00:01\r\u001b[K     |████████████████████████▍       | 1.2 MB 15.3 MB/s eta 0:00:01\r\u001b[K     |████████████████████████▋       | 1.2 MB 15.3 MB/s eta 0:00:01\r\u001b[K     |████████████████████████▊       | 1.2 MB 15.3 MB/s eta 0:00:01\r\u001b[K     |█████████████████████████       | 1.3 MB 15.3 MB/s eta 0:00:01\r\u001b[K     |█████████████████████████▏      | 1.3 MB 15.3 MB/s eta 0:00:01\r\u001b[K     |█████████████████████████▍      | 1.3 MB 15.3 MB/s eta 0:00:01\r\u001b[K     |█████████████████████████▋      | 1.3 MB 15.3 MB/s eta 0:00:01\r\u001b[K     |█████████████████████████▉      | 1.3 MB 15.3 MB/s eta 0:00:01\r\u001b[K     |██████████████████████████      | 1.3 MB 15.3 MB/s eta 0:00:01\r\u001b[K     |██████████████████████████▏     | 1.3 MB 15.3 MB/s eta 0:00:01\r\u001b[K     |██████████████████████████▍     | 1.3 MB 15.3 MB/s eta 0:00:01\r\u001b[K     |██████████████████████████▋     | 1.3 MB 15.3 MB/s eta 0:00:01\r\u001b[K     |██████████████████████████▉     | 1.4 MB 15.3 MB/s eta 0:00:01\r\u001b[K     |███████████████████████████     | 1.4 MB 15.3 MB/s eta 0:00:01\r\u001b[K     |███████████████████████████▏    | 1.4 MB 15.3 MB/s eta 0:00:01\r\u001b[K     |███████████████████████████▍    | 1.4 MB 15.3 MB/s eta 0:00:01\r\u001b[K     |███████████████████████████▋    | 1.4 MB 15.3 MB/s eta 0:00:01\r\u001b[K     |███████████████████████████▉    | 1.4 MB 15.3 MB/s eta 0:00:01\r\u001b[K     |████████████████████████████    | 1.4 MB 15.3 MB/s eta 0:00:01\r\u001b[K     |████████████████████████████▏   | 1.4 MB 15.3 MB/s eta 0:00:01\r\u001b[K     |████████████████████████████▍   | 1.4 MB 15.3 MB/s eta 0:00:01\r\u001b[K     |████████████████████████████▋   | 1.4 MB 15.3 MB/s eta 0:00:01\r\u001b[K     |████████████████████████████▉   | 1.5 MB 15.3 MB/s eta 0:00:01\r\u001b[K     |█████████████████████████████   | 1.5 MB 15.3 MB/s eta 0:00:01\r\u001b[K     |█████████████████████████████▎  | 1.5 MB 15.3 MB/s eta 0:00:01\r\u001b[K     |█████████████████████████████▍  | 1.5 MB 15.3 MB/s eta 0:00:01\r\u001b[K     |█████████████████████████████▋  | 1.5 MB 15.3 MB/s eta 0:00:01\r\u001b[K     |█████████████████████████████▉  | 1.5 MB 15.3 MB/s eta 0:00:01\r\u001b[K     |██████████████████████████████  | 1.5 MB 15.3 MB/s eta 0:00:01\r\u001b[K     |██████████████████████████████▎ | 1.5 MB 15.3 MB/s eta 0:00:01\r\u001b[K     |██████████████████████████████▌ | 1.5 MB 15.3 MB/s eta 0:00:01\r\u001b[K     |██████████████████████████████▋ | 1.5 MB 15.3 MB/s eta 0:00:01\r\u001b[K     |██████████████████████████████▉ | 1.6 MB 15.3 MB/s eta 0:00:01\r\u001b[K     |███████████████████████████████ | 1.6 MB 15.3 MB/s eta 0:00:01\r\u001b[K     |███████████████████████████████▎| 1.6 MB 15.3 MB/s eta 0:00:01\r\u001b[K     |███████████████████████████████▌| 1.6 MB 15.3 MB/s eta 0:00:01\r\u001b[K     |███████████████████████████████▊| 1.6 MB 15.3 MB/s eta 0:00:01\r\u001b[K     |███████████████████████████████▉| 1.6 MB 15.3 MB/s eta 0:00:01\r\u001b[K     |████████████████████████████████| 1.6 MB 15.3 MB/s \n",
            "\u001b[?25hRequirement already satisfied: wheel>=0.23.0 in /usr/local/lib/python3.7/dist-packages (from pyLDAvis==2.1.2) (0.37.1)\n",
            "Requirement already satisfied: numpy>=1.9.2 in /usr/local/lib/python3.7/dist-packages (from pyLDAvis==2.1.2) (1.21.6)\n",
            "Requirement already satisfied: scipy>=0.18.0 in /usr/local/lib/python3.7/dist-packages (from pyLDAvis==2.1.2) (1.4.1)\n",
            "Requirement already satisfied: pandas>=0.17.0 in /usr/local/lib/python3.7/dist-packages (from pyLDAvis==2.1.2) (1.3.5)\n",
            "Requirement already satisfied: joblib>=0.8.4 in /usr/local/lib/python3.7/dist-packages (from pyLDAvis==2.1.2) (1.1.0)\n",
            "Requirement already satisfied: jinja2>=2.7.2 in /usr/local/lib/python3.7/dist-packages (from pyLDAvis==2.1.2) (2.11.3)\n",
            "Requirement already satisfied: numexpr in /usr/local/lib/python3.7/dist-packages (from pyLDAvis==2.1.2) (2.8.1)\n",
            "Requirement already satisfied: pytest in /usr/local/lib/python3.7/dist-packages (from pyLDAvis==2.1.2) (3.6.4)\n",
            "Requirement already satisfied: future in /usr/local/lib/python3.7/dist-packages (from pyLDAvis==2.1.2) (0.16.0)\n",
            "Collecting funcy\n",
            "  Downloading funcy-1.17-py2.py3-none-any.whl (33 kB)\n",
            "Requirement already satisfied: MarkupSafe>=0.23 in /usr/local/lib/python3.7/dist-packages (from jinja2>=2.7.2->pyLDAvis==2.1.2) (2.0.1)\n",
            "Requirement already satisfied: pytz>=2017.3 in /usr/local/lib/python3.7/dist-packages (from pandas>=0.17.0->pyLDAvis==2.1.2) (2022.1)\n",
            "Requirement already satisfied: python-dateutil>=2.7.3 in /usr/local/lib/python3.7/dist-packages (from pandas>=0.17.0->pyLDAvis==2.1.2) (2.8.2)\n",
            "Requirement already satisfied: six>=1.5 in /usr/local/lib/python3.7/dist-packages (from python-dateutil>=2.7.3->pandas>=0.17.0->pyLDAvis==2.1.2) (1.15.0)\n",
            "Requirement already satisfied: packaging in /usr/local/lib/python3.7/dist-packages (from numexpr->pyLDAvis==2.1.2) (21.3)\n",
            "Requirement already satisfied: pyparsing!=3.0.5,>=2.0.2 in /usr/local/lib/python3.7/dist-packages (from packaging->numexpr->pyLDAvis==2.1.2) (3.0.9)\n",
            "Requirement already satisfied: pluggy<0.8,>=0.5 in /usr/local/lib/python3.7/dist-packages (from pytest->pyLDAvis==2.1.2) (0.7.1)\n",
            "Requirement already satisfied: more-itertools>=4.0.0 in /usr/local/lib/python3.7/dist-packages (from pytest->pyLDAvis==2.1.2) (8.13.0)\n",
            "Requirement already satisfied: atomicwrites>=1.0 in /usr/local/lib/python3.7/dist-packages (from pytest->pyLDAvis==2.1.2) (1.4.0)\n",
            "Requirement already satisfied: setuptools in /usr/local/lib/python3.7/dist-packages (from pytest->pyLDAvis==2.1.2) (57.4.0)\n",
            "Requirement already satisfied: py>=1.5.0 in /usr/local/lib/python3.7/dist-packages (from pytest->pyLDAvis==2.1.2) (1.11.0)\n",
            "Requirement already satisfied: attrs>=17.4.0 in /usr/local/lib/python3.7/dist-packages (from pytest->pyLDAvis==2.1.2) (21.4.0)\n",
            "Building wheels for collected packages: pyLDAvis\n",
            "  Building wheel for pyLDAvis (setup.py) ... \u001b[?25l\u001b[?25hdone\n",
            "  Created wheel for pyLDAvis: filename=pyLDAvis-2.1.2-py2.py3-none-any.whl size=97738 sha256=e2da6c64f51fa4fa0595d1d6b95349dce6a254dd21bc62c721d264fcacd82ccc\n",
            "  Stored in directory: /root/.cache/pip/wheels/3b/fb/41/e32e5312da9f440d34c4eff0d2207b46dc9332a7b931ef1e89\n",
            "Successfully built pyLDAvis\n",
            "Installing collected packages: funcy, pyLDAvis\n",
            "Successfully installed funcy-1.17 pyLDAvis-2.1.2\n"
          ]
        }
      ]
    },
    {
      "cell_type": "code",
      "source": [
        "from google.colab import auth\n",
        "auth.authenticate_user()\n",
        "\n",
        "import gspread\n",
        "from google.auth import default\n",
        "creds, _ = default()\n",
        "\n",
        "gc = gspread.authorize(creds)\n",
        "\n",
        "sh = gc.create('A new spreadsheet')"
      ],
      "metadata": {
        "id": "ZShKZU8NsqsH"
      },
      "execution_count": null,
      "outputs": []
    },
    {
      "cell_type": "code",
      "metadata": {
        "id": "nrFRQ3tlN2Xw"
      },
      "source": [
        "#@title Install gspread, authenticate and load data from a Google Sheet\n",
        "!pip install --upgrade -q gspread\n",
        "\n",
        "from google.colab import auth\n",
        "auth.authenticate_user()\n",
        "\n",
        "import gspread\n",
        "from oauth2client.client import GoogleCredentials\n",
        "\n",
        "# Default data from\n",
        "# http://web.eecs.utk.edu/~berry/order/node4.html#SECTION00022000000000000000\n",
        "\n",
        "googlesheet_filename = 'my data' #@param {type:\"string\"}\n",
        "data_rows_to_preview = 10 #@param {type:\"integer\"}\n"
      ],
      "execution_count": null,
      "outputs": []
    },
    {
      "cell_type": "code",
      "metadata": {
        "id": "80FDsXYg4Gpd",
        "colab": {
          "base_uri": "https://localhost:8080/",
          "height": 363
        },
        "outputId": "b086f170-871c-4d6b-8f4a-b0e3b02ca1d1"
      },
      "source": [
        "#@title Load and preview data from a Google Sheet\n",
        "\n",
        "#gc = gspread.authorize(GoogleCredentials.get_application_default())\n",
        "\n",
        "worksheet = gc.open(googlesheet_filename).sheet1\n",
        "\n",
        "# get_all_values gives a list of rows.\n",
        "rows = worksheet.get_all_values()\n",
        "\n",
        "# convert the 2nd column values to a list\n",
        "documents = []\n",
        "for row in rows[1:]:\n",
        "  documents.append(row[1])\n",
        "  \n",
        "#print(documents)\n",
        "\n",
        "# Convert to a DataFrame and render.\n",
        "import pandas as pd\n",
        "dataset_df = pd.DataFrame.from_records(rows)\n",
        "dataset_df.head(n=data_rows_to_preview)\n"
      ],
      "execution_count": null,
      "outputs": [
        {
          "output_type": "execute_result",
          "data": {
            "text/plain": [
              "       0                                                  1\n",
              "0  score                                            content\n",
              "1      3                                          Excellent\n",
              "2      1  Sorry to say but the old app was far better th...\n",
              "3      5                                        Interesting\n",
              "4      1                                   Very useless app\n",
              "5      2  this app is a step back ward the previous app ...\n",
              "6      2  Former app is better. I can't find the data de...\n",
              "7      1  Very very very very poor app, the toggle butto...\n",
              "8      1                The older app was navigated better.\n",
              "9      3                Always logging me out automatically"
            ],
            "text/html": [
              "\n",
              "  <div id=\"df-664d6255-8c75-49fc-ab49-cc1fae0a046d\">\n",
              "    <div class=\"colab-df-container\">\n",
              "      <div>\n",
              "<style scoped>\n",
              "    .dataframe tbody tr th:only-of-type {\n",
              "        vertical-align: middle;\n",
              "    }\n",
              "\n",
              "    .dataframe tbody tr th {\n",
              "        vertical-align: top;\n",
              "    }\n",
              "\n",
              "    .dataframe thead th {\n",
              "        text-align: right;\n",
              "    }\n",
              "</style>\n",
              "<table border=\"1\" class=\"dataframe\">\n",
              "  <thead>\n",
              "    <tr style=\"text-align: right;\">\n",
              "      <th></th>\n",
              "      <th>0</th>\n",
              "      <th>1</th>\n",
              "    </tr>\n",
              "  </thead>\n",
              "  <tbody>\n",
              "    <tr>\n",
              "      <th>0</th>\n",
              "      <td>score</td>\n",
              "      <td>content</td>\n",
              "    </tr>\n",
              "    <tr>\n",
              "      <th>1</th>\n",
              "      <td>3</td>\n",
              "      <td>Excellent</td>\n",
              "    </tr>\n",
              "    <tr>\n",
              "      <th>2</th>\n",
              "      <td>1</td>\n",
              "      <td>Sorry to say but the old app was far better th...</td>\n",
              "    </tr>\n",
              "    <tr>\n",
              "      <th>3</th>\n",
              "      <td>5</td>\n",
              "      <td>Interesting</td>\n",
              "    </tr>\n",
              "    <tr>\n",
              "      <th>4</th>\n",
              "      <td>1</td>\n",
              "      <td>Very useless app</td>\n",
              "    </tr>\n",
              "    <tr>\n",
              "      <th>5</th>\n",
              "      <td>2</td>\n",
              "      <td>this app is a step back ward the previous app ...</td>\n",
              "    </tr>\n",
              "    <tr>\n",
              "      <th>6</th>\n",
              "      <td>2</td>\n",
              "      <td>Former app is better. I can't find the data de...</td>\n",
              "    </tr>\n",
              "    <tr>\n",
              "      <th>7</th>\n",
              "      <td>1</td>\n",
              "      <td>Very very very very poor app, the toggle butto...</td>\n",
              "    </tr>\n",
              "    <tr>\n",
              "      <th>8</th>\n",
              "      <td>1</td>\n",
              "      <td>The older app was navigated better.</td>\n",
              "    </tr>\n",
              "    <tr>\n",
              "      <th>9</th>\n",
              "      <td>3</td>\n",
              "      <td>Always logging me out automatically</td>\n",
              "    </tr>\n",
              "  </tbody>\n",
              "</table>\n",
              "</div>\n",
              "      <button class=\"colab-df-convert\" onclick=\"convertToInteractive('df-664d6255-8c75-49fc-ab49-cc1fae0a046d')\"\n",
              "              title=\"Convert this dataframe to an interactive table.\"\n",
              "              style=\"display:none;\">\n",
              "        \n",
              "  <svg xmlns=\"http://www.w3.org/2000/svg\" height=\"24px\"viewBox=\"0 0 24 24\"\n",
              "       width=\"24px\">\n",
              "    <path d=\"M0 0h24v24H0V0z\" fill=\"none\"/>\n",
              "    <path d=\"M18.56 5.44l.94 2.06.94-2.06 2.06-.94-2.06-.94-.94-2.06-.94 2.06-2.06.94zm-11 1L8.5 8.5l.94-2.06 2.06-.94-2.06-.94L8.5 2.5l-.94 2.06-2.06.94zm10 10l.94 2.06.94-2.06 2.06-.94-2.06-.94-.94-2.06-.94 2.06-2.06.94z\"/><path d=\"M17.41 7.96l-1.37-1.37c-.4-.4-.92-.59-1.43-.59-.52 0-1.04.2-1.43.59L10.3 9.45l-7.72 7.72c-.78.78-.78 2.05 0 2.83L4 21.41c.39.39.9.59 1.41.59.51 0 1.02-.2 1.41-.59l7.78-7.78 2.81-2.81c.8-.78.8-2.07 0-2.86zM5.41 20L4 18.59l7.72-7.72 1.47 1.35L5.41 20z\"/>\n",
              "  </svg>\n",
              "      </button>\n",
              "      \n",
              "  <style>\n",
              "    .colab-df-container {\n",
              "      display:flex;\n",
              "      flex-wrap:wrap;\n",
              "      gap: 12px;\n",
              "    }\n",
              "\n",
              "    .colab-df-convert {\n",
              "      background-color: #E8F0FE;\n",
              "      border: none;\n",
              "      border-radius: 50%;\n",
              "      cursor: pointer;\n",
              "      display: none;\n",
              "      fill: #1967D2;\n",
              "      height: 32px;\n",
              "      padding: 0 0 0 0;\n",
              "      width: 32px;\n",
              "    }\n",
              "\n",
              "    .colab-df-convert:hover {\n",
              "      background-color: #E2EBFA;\n",
              "      box-shadow: 0px 1px 2px rgba(60, 64, 67, 0.3), 0px 1px 3px 1px rgba(60, 64, 67, 0.15);\n",
              "      fill: #174EA6;\n",
              "    }\n",
              "\n",
              "    [theme=dark] .colab-df-convert {\n",
              "      background-color: #3B4455;\n",
              "      fill: #D2E3FC;\n",
              "    }\n",
              "\n",
              "    [theme=dark] .colab-df-convert:hover {\n",
              "      background-color: #434B5C;\n",
              "      box-shadow: 0px 1px 3px 1px rgba(0, 0, 0, 0.15);\n",
              "      filter: drop-shadow(0px 1px 2px rgba(0, 0, 0, 0.3));\n",
              "      fill: #FFFFFF;\n",
              "    }\n",
              "  </style>\n",
              "\n",
              "      <script>\n",
              "        const buttonEl =\n",
              "          document.querySelector('#df-664d6255-8c75-49fc-ab49-cc1fae0a046d button.colab-df-convert');\n",
              "        buttonEl.style.display =\n",
              "          google.colab.kernel.accessAllowed ? 'block' : 'none';\n",
              "\n",
              "        async function convertToInteractive(key) {\n",
              "          const element = document.querySelector('#df-664d6255-8c75-49fc-ab49-cc1fae0a046d');\n",
              "          const dataTable =\n",
              "            await google.colab.kernel.invokeFunction('convertToInteractive',\n",
              "                                                     [key], {});\n",
              "          if (!dataTable) return;\n",
              "\n",
              "          const docLinkHtml = 'Like what you see? Visit the ' +\n",
              "            '<a target=\"_blank\" href=https://colab.research.google.com/notebooks/data_table.ipynb>data table notebook</a>'\n",
              "            + ' to learn more about interactive tables.';\n",
              "          element.innerHTML = '';\n",
              "          dataTable['output_type'] = 'display_data';\n",
              "          await google.colab.output.renderOutput(dataTable, element);\n",
              "          const docLink = document.createElement('div');\n",
              "          docLink.innerHTML = docLinkHtml;\n",
              "          element.appendChild(docLink);\n",
              "        }\n",
              "      </script>\n",
              "    </div>\n",
              "  </div>\n",
              "  "
            ]
          },
          "metadata": {},
          "execution_count": 4
        }
      ]
    },
    {
      "cell_type": "markdown",
      "metadata": {
        "id": "NdEbsHFSxiQE"
      },
      "source": [
        "\n",
        "\n",
        "---\n",
        "\n",
        "\n",
        "\n",
        "---\n",
        "\n"
      ]
    },
    {
      "cell_type": "code",
      "metadata": {
        "id": "W8aR4hci9D8e"
      },
      "source": [
        "#@title Set topic modeling algorithm arguments\n",
        "\n",
        "no_topics =  3#@param {type:\"integer\"}\n",
        "\n",
        "no_top_words = 4 #@param {type:\"integer\"}\n",
        "\n",
        "no_top_documents = 3 #@param {type:\"integer\"}\n",
        "\n",
        "from sklearn.feature_extraction.text import TfidfVectorizer, CountVectorizer\n",
        "from sklearn.decomposition import NMF, LatentDirichletAllocation\n",
        "import numpy as np"
      ],
      "execution_count": null,
      "outputs": []
    },
    {
      "cell_type": "code",
      "metadata": {
        "id": "1-iV64YMqATQ",
        "colab": {
          "base_uri": "https://localhost:8080/"
        },
        "outputId": "522db390-74ce-4353-f5b2-2174865e7c25"
      },
      "source": [
        "#@title Run NMF\n",
        "\n",
        "def display_topics(H, W, feature_names, documents, no_top_words, no_top_documents):\n",
        "    for topic_idx, topic in enumerate(H):\n",
        "        print(\"Topic %d:\" % (topic_idx))\n",
        "        print(\" \".join([ (feature_names[i] + \" (\" + str(topic[i].round(2)) + \")\")\n",
        "          for i in topic.argsort()[:-no_top_words - 1:-1]]))\n",
        "        top_doc_indices = np.argsort( W[:,topic_idx] )[::-1][0:no_top_documents]\n",
        "        for doc_index in top_doc_indices:\n",
        "            print(str(doc_index) + \". \" + documents[doc_index])\n",
        "\n",
        "# NMF is able to use tf-idf\n",
        "tfidf_vectorizer = TfidfVectorizer(max_df=0.95, min_df=2, stop_words='english')\n",
        "tfidf = tfidf_vectorizer.fit_transform(documents)\n",
        "tfidf_feature_names = tfidf_vectorizer.get_feature_names()\n",
        "\n",
        "# Run NMF\n",
        "nmf_model = NMF(n_components=no_topics, random_state=1, alpha=.1, l1_ratio=.5, init='nndsvd').fit(tfidf)\n",
        "nmf_W = nmf_model.transform(tfidf)\n",
        "nmf_H = nmf_model.components_\n",
        "\n",
        "print(\"NMF Topics\")\n",
        "display_topics(nmf_H, nmf_W, tfidf_feature_names, documents, no_top_words, no_top_documents)\n",
        "print(\"--------------\")\n",
        "\n"
      ],
      "execution_count": null,
      "outputs": [
        {
          "output_type": "stream",
          "name": "stdout",
          "text": [
            "NMF Topics\n",
            "Topic 0:\n",
            "good (5.12) app (0.12) use (0.07) application (0.07)\n",
            "760. Good\n",
            "55. Good\n",
            "1057. Good\n",
            "Topic 1:\n",
            "nice (4.34) app (0.15) experience (0.04) easy (0.02)\n",
            "430. Nice one\n",
            "1264. Very nice 👍\n",
            "1116. Nice\n",
            "Topic 2:\n",
            "app (4.1) better (0.88) old (0.87) useless (0.75)\n",
            "1149. My favourite app\n",
            "578. Ineed your app\n",
            "217. Sweet app.\n",
            "--------------\n"
          ]
        },
        {
          "output_type": "stream",
          "name": "stderr",
          "text": [
            "/usr/local/lib/python3.7/dist-packages/sklearn/utils/deprecation.py:87: FutureWarning: Function get_feature_names is deprecated; get_feature_names is deprecated in 1.0 and will be removed in 1.2. Please use get_feature_names_out instead.\n",
            "  warnings.warn(msg, category=FutureWarning)\n",
            "/usr/local/lib/python3.7/dist-packages/sklearn/decomposition/_nmf.py:1425: FutureWarning: `alpha` was deprecated in version 1.0 and will be removed in 1.2. Use `alpha_W` and `alpha_H` instead\n",
            "  FutureWarning,\n",
            "/usr/local/lib/python3.7/dist-packages/sklearn/decomposition/_nmf.py:1425: FutureWarning: `alpha` was deprecated in version 1.0 and will be removed in 1.2. Use `alpha_W` and `alpha_H` instead\n",
            "  FutureWarning,\n"
          ]
        }
      ]
    },
    {
      "cell_type": "code",
      "metadata": {
        "colab": {
          "base_uri": "https://localhost:8080/"
        },
        "cellView": "code",
        "id": "GEPTgBbWxMtk",
        "outputId": "c16fe080-5798-4d63-b769-8f37070c7d77"
      },
      "source": [
        "#@title Visualise NMF with pyLDAVis\n",
        "\n",
        "import pyLDAvis.sklearn\n",
        "\n",
        "pyLDAvis.enable_notebook()\n",
        "\n",
        "#pyLDAvis_data = pyLDAvis.sklearn.prepare(nmf_model, tfidf, tfidf_vectorizer)\n",
        "# Visualization can be displayed in the notebook\n",
        "#pyLDAvis.display(pyLDAvis_data)"
      ],
      "execution_count": null,
      "outputs": [
        {
          "output_type": "stream",
          "name": "stderr",
          "text": [
            "/usr/local/lib/python3.7/dist-packages/past/types/oldstr.py:5: DeprecationWarning: Using or importing the ABCs from 'collections' instead of from 'collections.abc' is deprecated since Python 3.3,and in 3.9 it will stop working\n",
            "  from collections import Iterable\n",
            "/usr/local/lib/python3.7/dist-packages/past/builtins/misc.py:4: DeprecationWarning: Using or importing the ABCs from 'collections' instead of from 'collections.abc' is deprecated since Python 3.3,and in 3.9 it will stop working\n",
            "  from collections import Mapping\n"
          ]
        }
      ]
    },
    {
      "cell_type": "code",
      "metadata": {
        "id": "onfGom6U9oSq",
        "colab": {
          "base_uri": "https://localhost:8080/"
        },
        "outputId": "9e5da564-f931-4049-b8cf-2020b7ab5857"
      },
      "source": [
        "#@title Run LDA\n",
        "\n",
        "# LDA can only use raw term counts for LDA because it is a probabilistic graphical model\n",
        "tf_vectorizer = CountVectorizer(max_df=0.95, min_df=2, stop_words='english')\n",
        "tf = tf_vectorizer.fit_transform(documents)\n",
        "tf_feature_names = tf_vectorizer.get_feature_names()\n",
        "\n",
        "# Run LDA\n",
        "lda_model = LatentDirichletAllocation(n_components=no_topics, max_iter=5, learning_method='online', learning_offset=50.,random_state=0).fit(tf)\n",
        "lda_W = lda_model.transform(tf)\n",
        "lda_H = lda_model.components_\n",
        "\n",
        "print(\"LDA Topics\")\n",
        "display_topics(lda_H, lda_W, tf_feature_names, documents, no_top_words, no_top_documents)"
      ],
      "execution_count": null,
      "outputs": [
        {
          "output_type": "stream",
          "name": "stderr",
          "text": [
            "/usr/local/lib/python3.7/dist-packages/sklearn/utils/deprecation.py:87: FutureWarning: Function get_feature_names is deprecated; get_feature_names is deprecated in 1.0 and will be removed in 1.2. Please use get_feature_names_out instead.\n",
            "  warnings.warn(msg, category=FutureWarning)\n"
          ]
        },
        {
          "output_type": "stream",
          "name": "stdout",
          "text": [
            "LDA Topics\n",
            "Topic 0:\n",
            "good (211.52) app (75.2) mtn (59.27) great (50.61)\n",
            "66. There's something the developers need to work on this app. No where one can edit. Paraventure one make a mistake when filling details on the app. You know when u first download the app. The ask of email. If one make mistake. There's isn't where to edit it. Gone to check on the app. It's not responding. MTN should provide a platform where one can make correction. Like edit profile. GLO NETWORK AS IT. MTN SHOULD FOLLOW SUIT.\n",
            "245. Feel the best my MTN NG sim card App ever for keeping save profile this MTN NG App is the best ever up MTN NG\n",
            "156. The last app show the las previos call make which it has been used to track the person who stole my line but now is not included mtn need to work on this thak you mtn you are the best\n",
            "Topic 1:\n",
            "app (1004.64) old (214.58) data (212.19) better (161.29)\n",
            "865. Your rent upgrade is a disaster, I wish I could get my formal version. For weeks now I can't buy data, I can't share data with my team. If you click something on the app it will open browser click again it will open SmS for you to dial a number just to subscribe. I regret upgrading cause the experience is bad. You can't even buy data with Airtime in your phone the app will only provide option for card payment only. Please my dear MTN I enjoy your network but just give me back my old app.\n",
            "605. The app is utterly useless. First time I downloaded, I literally couldn't click on anything, I'd press an option and it just won't work. Today I downloaded it again and now I can't even log in with my number. I tried logging in with my Google account and it worked, then I proceeded to buy data. Still, I didn't get the data after I did the bank transfer and they haven't reversed my money. I'm really upset now, I see no reason they updated the app, they only made it worse and annoyingly useless.\n",
            "1440. UPDATED REVIEW. The old app could log in when I had 0MB but this new one NEEDS me to have data before I log in. That's a downgrade. The old app had a lot more functionality to play with. This is too few. A downgrade. The old app generally has a more immersive UI (minus no dark theme option) than the new app. Generally, this new app needs to be upgraded. I'm still keeping the old app, for reference purposes.\n",
            "Topic 2:\n",
            "love (44.18) app (40.54) numbers (32.49) mtn (21.52)\n",
            "47. Got the \"exciting message of update\", so I rush to update the app and yet, Linked Numbers still suck!!!! You can't see nor add your linked numbers, only beneficiary works! Wonder what the dev team of such a giant telecom service provider is doing. Reading developer's reply, you'll wonder if he's actually using the app or may be does not know the difference between linked numbers and beneficiary!\n",
            "672. No option to link numbers on Android devices, Edit: I have another number linked to my NIN but Under manage numbers it says, no linked numbers. Thats for my andriod phone. In Iphones, there is an option to link numbers, then you receive an OTPand the link is activated. This option should be added to andriod phones.\n",
            "1354. Being unable to cancel auto renewal from the app is a big letdown. I subbed 500 for 2.5gb from within the app unfortunately auto renewal was turned on . I tried the *131# I even searched the web all to no avail . 500 gone when I finally recharged with them sending me a text message on how to turn it off . Thanks 👍🏻\n"
          ]
        }
      ]
    },
    {
      "cell_type": "code",
      "metadata": {
        "colab": {
          "base_uri": "https://localhost:8080/",
          "height": 951
        },
        "id": "BfhjlOFfyAyY",
        "outputId": "edf42f68-db9c-4990-a8f2-000be859506d"
      },
      "source": [
        "#@title Visualise LDA with pyLDAVis\n",
        "\n",
        "import pyLDAvis.sklearn\n",
        "\n",
        "pyLDAvis.enable_notebook()\n",
        "\n",
        "pyLDAvis_data = pyLDAvis.sklearn.prepare(lda_model, tf, tf_vectorizer)\n",
        "# Visualization can be displayed in the notebook\n",
        "pyLDAvis.display(pyLDAvis_data)"
      ],
      "execution_count": null,
      "outputs": [
        {
          "output_type": "stream",
          "name": "stderr",
          "text": [
            "/usr/local/lib/python3.7/dist-packages/sklearn/utils/deprecation.py:87: FutureWarning: Function get_feature_names is deprecated; get_feature_names is deprecated in 1.0 and will be removed in 1.2. Please use get_feature_names_out instead.\n",
            "  warnings.warn(msg, category=FutureWarning)\n",
            "/usr/local/lib/python3.7/dist-packages/pyLDAvis/_prepare.py:232: FutureWarning: In a future version of pandas all arguments of DataFrame.drop except for the argument 'labels' will be keyword-only\n",
            "  head(R).drop('saliency', 1)\n"
          ]
        },
        {
          "output_type": "execute_result",
          "data": {
            "text/plain": [
              "<IPython.core.display.HTML object>"
            ],
            "text/html": [
              "\n",
              "<link rel=\"stylesheet\" type=\"text/css\" href=\"https://cdn.rawgit.com/bmabey/pyLDAvis/files/ldavis.v1.0.0.css\">\n",
              "\n",
              "\n",
              "<div id=\"ldavis_el591399201387001124932963864\"></div>\n",
              "<script type=\"text/javascript\">\n",
              "\n",
              "var ldavis_el591399201387001124932963864_data = {\"mdsDat\": {\"x\": [0.0765184022405517, -0.17459675953560805, 0.09807835729505629], \"y\": [0.14131732961345123, -0.011173719517577913, -0.1301436100958733], \"topics\": [1, 2, 3], \"cluster\": [1, 1, 1], \"Freq\": [71.48929350226639, 16.17584589236088, 12.334860605372732]}, \"tinfo\": {\"Term\": [\"good\", \"mtn\", \"love\", \"numbers\", \"great\", \"use\", \"easy\", \"best\", \"sim\", \"linked\", \"data\", \"login\", \"link\", \"amazing\", \"old\", \"cool\", \"slow\", \"number\", \"older\", \"network\", \"work\", \"card\", \"developer\", \"thanks\", \"fantastic\", \"log\", \"better\", \"apps\", \"play\", \"store\", \"data\", \"useless\", \"old\", \"don\", \"better\", \"bad\", \"terrible\", \"nice\", \"open\", \"bring\", \"star\", \"time\", \"excellent\", \"nonsense\", \"just\", \"waste\", \"version\", \"buy\", \"previous\", \"balance\", \"rubbish\", \"trying\", \"error\", \"oops\", \"fix\", \"pls\", \"couldn\", \"otp\", \"poor\", \"trash\", \"new\", \"able\", \"using\", \"app\", \"phone\", \"like\", \"number\", \"sign\", \"working\", \"downloaded\", \"doesn\", \"really\", \"update\", \"log\", \"mtn\", \"login\", \"use\", \"guys\", \"great\", \"easy\", \"good\", \"fantastic\", \"amazing\", \"best\", \"una\", \"cool\", \"interesting\", \"job\", \"okay\", \"profile\", \"sim\", \"improvement\", \"puk\", \"room\", \"seamless\", \"superb\", \"satisfactory\", \"apps\", \"making\", \"problems\", \"manageable\", \"sense\", \"quite\", \"friend\", \"effective\", \"wow\", \"highly\", \"disgusting\", \"fast\", \"ng\", \"500mb\", \"ok\", \"stop\", \"fine\", \"card\", \"use\", \"thanks\", \"mtn\", \"simple\", \"customer\", \"network\", \"app\", \"work\", \"want\", \"access\", \"ui\", \"make\", \"interface\", \"update\", \"features\", \"love\", \"older\", \"developer\", \"perfect\", \"wonder\", \"wonderful\", \"remove\", \"smooth\", \"beneficiary\", \"operation\", \"media\", \"social\", \"logs\", \"security\", \"calls\", \"icon\", \"exceptional\", \"small\", \"lovely\", \"b4\", \"roll\", \"ends\", \"gooo\", \"launch\", \"punish\", \"crying\", \"display\", \"exciting\", \"loud\", \"12\", \"signup\", \"slow\", \"fake\", \"beneficiaries\", \"dis\", \"birth\", \"numbers\", \"automatically\", \"gift\", \"linked\", \"removed\", \"store\", \"link\", \"play\", \"means\", \"mtn\", \"login\", \"app\", \"number\", \"try\", \"log\", \"update\", \"way\", \"option\"], \"Freq\": [206.0, 184.0, 47.0, 58.0, 49.0, 92.0, 42.0, 31.0, 28.0, 32.0, 200.0, 65.0, 35.0, 21.0, 204.0, 20.0, 18.0, 86.0, 15.0, 49.0, 45.0, 23.0, 14.0, 26.0, 15.0, 54.0, 154.0, 15.0, 17.0, 16.0, 199.47647776371616, 92.43775450156946, 201.72259725053104, 75.52233846134308, 151.62377059779652, 72.56974472528475, 49.29987463144142, 101.04123190931489, 36.94537586349889, 33.75909423229641, 39.37138181368622, 72.20002970107937, 31.290551818263438, 32.07315766117651, 107.43822339408872, 28.05531604299865, 87.95200056256152, 27.917559358736405, 76.72294967085514, 28.3581013923167, 31.296537925290384, 22.770046843846945, 22.86917473111664, 23.266556130283647, 33.475398361774744, 21.804255460139252, 18.140015497642924, 31.083461389563418, 46.9719314688875, 22.74459274464409, 104.69365813212262, 33.991003349677975, 38.259366474859206, 944.4448198730179, 46.17310956820729, 59.33781998048484, 75.52449763659199, 34.77335457130695, 41.34262879368349, 33.08011190569419, 38.85729968118293, 35.890266624720525, 65.75286513356589, 45.87013532279618, 106.73123209794348, 51.691782830185616, 51.11231681343369, 35.30216492442493, 47.40429667147804, 40.54008910405193, 198.13856554610948, 14.570382158476656, 20.210943377101174, 29.50750474651012, 11.793976957897382, 18.40432888752124, 8.134581282640958, 6.67878856969442, 7.791890667388101, 6.953001214463636, 25.43421574528775, 6.529259467116954, 7.579082467467673, 4.697534154750299, 3.5451219753726697, 3.7750590905551227, 3.3868343951358253, 12.393002244963661, 7.094212667771358, 3.3302958176941306, 3.542739358110582, 4.662807439121733, 5.766319866135605, 3.0079932656517196, 3.001410398801883, 2.6673046742669917, 2.7646425296460975, 2.9374849019066502, 7.645807133505302, 8.948416852994395, 6.306732852510053, 11.029695205108009, 4.6866136176238165, 10.003697627135624, 14.322255632773008, 40.81895898961912, 14.511524215180772, 55.51606213071041, 6.754609393587472, 9.703367465033194, 16.35358746520222, 70.43997310119808, 14.008488948767209, 10.450822351270343, 8.673454798780158, 8.549767249203839, 8.697824298172316, 8.10400130016495, 8.611970826888372, 7.906238792431537, 46.449973426164235, 14.234986594372051, 12.836850020213957, 9.26711697777627, 9.79612937422796, 7.800459128755167, 6.472721689314904, 6.32371042787603, 6.930014109307979, 5.253512076013536, 4.890156405003614, 4.854480378881408, 6.327559116936685, 4.092444164147601, 4.862329235731248, 3.7479867762326724, 3.314969416616635, 4.33863824086039, 3.1978234871637157, 3.3984238378288185, 4.864072684112406, 3.4380492108367666, 2.7135467955888553, 2.871950077968104, 2.673115159824288, 2.7445882900470986, 2.757456223837409, 2.9687840501911884, 2.737762802681926, 2.634564919192567, 3.0499410069518573, 13.908617046230566, 4.830122886175038, 4.851402268204851, 4.018633571219615, 5.054385185418004, 34.15457457751182, 7.795127872384422, 3.444752175916595, 19.021024716377887, 8.647768590426557, 8.781326077830759, 13.802899615615898, 8.41178747406749, 5.412946588382672, 22.621163461525608, 13.313096358830835, 42.61948544122401, 10.420977640208593, 7.846909538822357, 7.997543240869112, 7.750772352166852, 6.180158112759917, 5.313956557756268], \"Total\": [206.0, 184.0, 47.0, 58.0, 49.0, 92.0, 42.0, 31.0, 28.0, 32.0, 200.0, 65.0, 35.0, 21.0, 204.0, 20.0, 18.0, 86.0, 15.0, 49.0, 45.0, 23.0, 14.0, 26.0, 15.0, 54.0, 154.0, 15.0, 17.0, 16.0, 200.99370334370437, 93.28727621511176, 204.30484436435643, 76.59233915785212, 154.02457136840783, 74.0312457930164, 50.31413378100834, 103.19699909601378, 37.74198010573679, 34.53725943378156, 40.294866843903066, 74.02579497337213, 32.11629357682039, 32.927749847682215, 110.34706676665755, 28.820287817681876, 90.40207241203485, 28.725367264093496, 79.12060836878081, 29.31771553036234, 32.38316962766705, 23.56098250057455, 23.711494174349458, 24.18188711204171, 34.867296670217684, 22.72681976756423, 18.911949320732717, 32.41332574101503, 49.026593245182546, 23.743231060802177, 109.8623996593725, 35.568023993825854, 40.08859725840609, 1057.50427841544, 49.33146622662096, 64.32424405177021, 86.72063788653105, 36.763214634134975, 44.71493766679466, 34.84717764862448, 42.15314562389043, 38.40257316809736, 82.1156083126211, 54.23991106391676, 184.8684576901795, 65.75940124847696, 92.74094922403525, 39.655527844896014, 49.11118417032637, 42.1141600787494, 206.8341525064945, 15.355500305193036, 21.321239441433306, 31.80627899315402, 12.899334413155383, 20.152709455085503, 9.070521691844382, 7.477382453471889, 8.739623324390447, 7.827895414520821, 28.67224209703625, 7.567683354289752, 8.90230709543025, 5.6465614778587385, 4.2830177167325445, 4.571529673543062, 4.138006584055174, 15.164277087151255, 8.683847923921912, 4.091502273224249, 4.355860551865054, 5.761222017791534, 7.150163319060573, 3.7766641394837333, 3.7753743732944858, 3.4048260723905814, 3.5350017371013487, 3.765350345887557, 9.838494267754088, 11.60656407979048, 8.160090437493075, 14.746546589515008, 6.241027185894669, 15.01752828092925, 23.515701210523805, 92.74094922403525, 26.401338488630532, 184.8684576901795, 10.478582534572727, 17.866498025611083, 49.161678296778625, 1057.50427841544, 45.9417938246951, 26.51364316972449, 23.372541584069566, 22.384342076491706, 25.20463781475366, 32.81437324962834, 82.1156083126211, 36.867038380453806, 47.708017355035324, 15.434973710996443, 14.031530482199766, 10.131375068736933, 10.896147731857901, 8.69157308095658, 7.2351142677692675, 7.088644421949383, 7.820286627704273, 6.020913191989181, 5.686478782588695, 5.69228941561325, 7.486652250638418, 4.851348045846584, 5.7934333957258195, 4.527044708130684, 4.006186545087746, 5.276797689246235, 3.9335903072492973, 4.195661514346863, 6.010550790405507, 4.299622894294856, 3.4107599435785554, 3.618657028859568, 3.373953193278184, 3.4663416232089164, 3.4892391700686822, 3.7636848166683525, 3.4763564309598447, 3.365442771017038, 3.897710061446538, 18.086067754457424, 6.2136736402148856, 6.248634553827498, 5.171315722634763, 6.641613885821965, 58.10698500549823, 11.257910519661726, 4.456711135000179, 32.55165307221282, 15.866028381568942, 16.31476545709812, 35.463864224533616, 17.248088116319412, 8.692950478657814, 184.8684576901795, 65.75940124847696, 1057.50427841544, 86.72063788653105, 37.99376193369425, 54.23991106391676, 82.1156083126211, 34.79075258559095, 20.51732263360947], \"Category\": [\"Default\", \"Default\", \"Default\", \"Default\", \"Default\", \"Default\", \"Default\", \"Default\", \"Default\", \"Default\", \"Default\", \"Default\", \"Default\", \"Default\", \"Default\", \"Default\", \"Default\", \"Default\", \"Default\", \"Default\", \"Default\", \"Default\", \"Default\", \"Default\", \"Default\", \"Default\", \"Default\", \"Default\", \"Default\", \"Default\", \"Topic1\", \"Topic1\", \"Topic1\", \"Topic1\", \"Topic1\", \"Topic1\", \"Topic1\", \"Topic1\", \"Topic1\", \"Topic1\", \"Topic1\", \"Topic1\", \"Topic1\", \"Topic1\", \"Topic1\", \"Topic1\", \"Topic1\", \"Topic1\", \"Topic1\", \"Topic1\", \"Topic1\", \"Topic1\", \"Topic1\", \"Topic1\", \"Topic1\", \"Topic1\", \"Topic1\", \"Topic1\", \"Topic1\", \"Topic1\", \"Topic1\", \"Topic1\", \"Topic1\", \"Topic1\", \"Topic1\", \"Topic1\", \"Topic1\", \"Topic1\", \"Topic1\", \"Topic1\", \"Topic1\", \"Topic1\", \"Topic1\", \"Topic1\", \"Topic1\", \"Topic1\", \"Topic1\", \"Topic1\", \"Topic2\", \"Topic2\", \"Topic2\", \"Topic2\", \"Topic2\", \"Topic2\", \"Topic2\", \"Topic2\", \"Topic2\", \"Topic2\", \"Topic2\", \"Topic2\", \"Topic2\", \"Topic2\", \"Topic2\", \"Topic2\", \"Topic2\", \"Topic2\", \"Topic2\", \"Topic2\", \"Topic2\", \"Topic2\", \"Topic2\", \"Topic2\", \"Topic2\", \"Topic2\", \"Topic2\", \"Topic2\", \"Topic2\", \"Topic2\", \"Topic2\", \"Topic2\", \"Topic2\", \"Topic2\", \"Topic2\", \"Topic2\", \"Topic2\", \"Topic2\", \"Topic2\", \"Topic2\", \"Topic2\", \"Topic2\", \"Topic2\", \"Topic2\", \"Topic2\", \"Topic2\", \"Topic2\", \"Topic2\", \"Topic2\", \"Topic2\", \"Topic2\", \"Topic2\", \"Topic3\", \"Topic3\", \"Topic3\", \"Topic3\", \"Topic3\", \"Topic3\", \"Topic3\", \"Topic3\", \"Topic3\", \"Topic3\", \"Topic3\", \"Topic3\", \"Topic3\", \"Topic3\", \"Topic3\", \"Topic3\", \"Topic3\", \"Topic3\", \"Topic3\", \"Topic3\", \"Topic3\", \"Topic3\", \"Topic3\", \"Topic3\", \"Topic3\", \"Topic3\", \"Topic3\", \"Topic3\", \"Topic3\", \"Topic3\", \"Topic3\", \"Topic3\", \"Topic3\", \"Topic3\", \"Topic3\", \"Topic3\", \"Topic3\", \"Topic3\", \"Topic3\", \"Topic3\", \"Topic3\", \"Topic3\", \"Topic3\", \"Topic3\", \"Topic3\", \"Topic3\", \"Topic3\", \"Topic3\", \"Topic3\", \"Topic3\", \"Topic3\", \"Topic3\", \"Topic3\", \"Topic3\"], \"logprob\": [30.0, 29.0, 28.0, 27.0, 26.0, 25.0, 24.0, 23.0, 22.0, 21.0, 20.0, 19.0, 18.0, 17.0, 16.0, 15.0, 14.0, 13.0, 12.0, 11.0, 10.0, 9.0, 8.0, 7.0, 6.0, 5.0, 4.0, 3.0, 2.0, 1.0, -3.61, -4.3792, -3.5988, -4.5813, -3.8843, -4.6212, -5.0078, -4.2902, -5.2963, -5.3865, -5.2327, -4.6263, -5.4624, -5.4377, -4.2288, -5.5716, -4.4289, -5.5765, -4.5655, -5.5608, -5.4622, -5.7803, -5.7759, -5.7587, -5.3949, -5.8236, -6.0076, -5.4691, -5.0562, -5.7814, -4.2547, -5.3796, -5.2613, -2.0551, -5.0733, -4.8225, -4.5813, -5.3569, -5.1838, -5.4068, -5.2458, -5.3253, -4.7198, -5.0799, -4.2354, -4.9604, -4.9717, -5.3418, -3.561, -3.7174, -2.1307, -4.7407, -4.4135, -4.0351, -4.9521, -4.5071, -5.3236, -5.5208, -5.3666, -5.4805, -4.1836, -5.5434, -5.3943, -5.8727, -6.1541, -6.0913, -6.1998, -4.9026, -5.4604, -6.2166, -6.1548, -5.8801, -5.6677, -6.3184, -6.3206, -6.4386, -6.4028, -6.3421, -5.3855, -5.2282, -5.5781, -5.0191, -5.875, -5.1167, -4.7579, -3.7106, -4.7448, -3.403, -5.5095, -5.1472, -4.6253, -3.1649, -4.78, -5.073, -5.2594, -5.2738, -5.2566, -5.3273, -5.2666, -5.3521, -3.3102, -4.4929, -4.5963, -4.9221, -4.8666, -5.0944, -5.281, -5.3043, -5.2128, -5.4897, -5.5614, -5.5687, -5.3037, -5.7395, -5.5671, -5.8274, -5.9502, -5.6811, -5.9861, -5.9253, -5.5667, -5.9137, -6.1504, -6.0936, -6.1654, -6.139, -6.1343, -6.0605, -6.1415, -6.1799, -6.0335, -4.5161, -5.5737, -5.5693, -5.7577, -5.5284, -3.6177, -5.0951, -5.9118, -4.2031, -4.9913, -4.976, -4.5237, -5.019, -5.4598, -4.0297, -4.5599, -3.3963, -4.8048, -5.0885, -5.0695, -5.1008, -5.3273, -5.4783], \"loglift\": [30.0, 29.0, 28.0, 27.0, 26.0, 25.0, 24.0, 23.0, 22.0, 21.0, 20.0, 19.0, 18.0, 17.0, 16.0, 15.0, 14.0, 13.0, 12.0, 11.0, 10.0, 9.0, 8.0, 7.0, 6.0, 5.0, 4.0, 3.0, 2.0, 1.0, 0.328, 0.3265, 0.3229, 0.3216, 0.3199, 0.3157, 0.3153, 0.3145, 0.3143, 0.3128, 0.3124, 0.3106, 0.3096, 0.3093, 0.3089, 0.3087, 0.3081, 0.3071, 0.3048, 0.3023, 0.3015, 0.3015, 0.2995, 0.297, 0.2949, 0.2942, 0.2939, 0.2937, 0.2928, 0.2927, 0.2874, 0.2903, 0.2889, 0.2226, 0.2695, 0.2549, 0.1974, 0.28, 0.2572, 0.2836, 0.2542, 0.268, 0.1134, 0.168, -0.2137, 0.0949, -0.2602, 0.2193, 1.7863, 1.7836, 1.7787, 1.7692, 1.7682, 1.7466, 1.7321, 1.7309, 1.7127, 1.7087, 1.7069, 1.7031, 1.7018, 1.6741, 1.6607, 1.6376, 1.6326, 1.6302, 1.6213, 1.6198, 1.6195, 1.6158, 1.615, 1.6101, 1.6065, 1.5941, 1.5922, 1.5775, 1.5758, 1.5734, 1.5695, 1.5616, 1.564, 1.5312, 1.5352, 1.4154, 1.3258, 1.001, 1.2232, 0.6187, 1.3825, 1.2112, 0.721, -0.8873, 0.6339, 0.8907, 0.8304, 0.8592, 0.7577, 0.4231, -0.4333, 0.282, 2.066, 2.0118, 2.0038, 2.0036, 1.9863, 1.9846, 1.9814, 1.9786, 1.9719, 1.9564, 1.9419, 1.9335, 1.9245, 1.9226, 1.9175, 1.9039, 1.9033, 1.897, 1.8857, 1.882, 1.8811, 1.8691, 1.8641, 1.8616, 1.8599, 1.8593, 1.8574, 1.8555, 1.8539, 1.8479, 1.8475, 1.8301, 1.8409, 1.8396, 1.8406, 1.8196, 1.5614, 1.7252, 1.8352, 1.5555, 1.4859, 1.4733, 1.1491, 1.3747, 1.619, -0.008, 0.4955, -1.1186, -0.0261, 0.5154, 0.1785, -0.2676, 0.3647, 0.7418]}, \"token.table\": {\"Topic\": [3, 1, 2, 1, 2, 3, 1, 2, 3, 1, 2, 1, 2, 3, 1, 2, 1, 2, 3, 3, 1, 2, 1, 3, 1, 3, 3, 1, 2, 3, 1, 2, 3, 2, 3, 1, 1, 1, 3, 1, 2, 1, 2, 1, 3, 1, 2, 3, 1, 2, 3, 1, 3, 1, 3, 2, 3, 1, 2, 3, 1, 2, 1, 3, 1, 2, 3, 2, 3, 1, 1, 3, 3, 1, 3, 2, 1, 2, 1, 2, 3, 1, 2, 1, 2, 3, 2, 2, 3, 1, 2, 3, 3, 1, 2, 3, 1, 3, 2, 3, 1, 2, 1, 2, 1, 2, 3, 2, 1, 2, 3, 3, 1, 2, 3, 1, 3, 1, 2, 3, 1, 3, 1, 2, 3, 1, 3, 3, 1, 3, 3, 1, 2, 3, 1, 2, 2, 1, 3, 3, 1, 2, 3, 1, 2, 3, 1, 2, 3, 1, 2, 1, 2, 3, 1, 1, 2, 3, 1, 2, 3, 1, 2, 1, 2, 1, 2, 3, 1, 3, 1, 1, 3, 1, 3, 1, 2, 3, 3, 1, 3, 1, 2, 3, 1, 2, 1, 3, 1, 2, 3, 2, 2, 1, 2, 3, 1, 2, 1, 2, 3, 3, 1, 2, 3, 1, 3, 1, 2, 1, 2, 2, 2, 3, 1, 2, 1, 2, 3, 1, 3, 1, 2, 3, 1, 2, 1, 3, 2, 3, 3, 3, 1, 1, 2, 1, 2, 3, 2, 1, 2, 1, 2, 3, 1, 2, 3, 1, 1, 2, 3, 1, 1, 2, 1, 2, 1, 2, 3, 1, 2, 3, 1, 1, 2, 3, 1, 2, 3, 1, 2, 3, 1, 1, 3, 1, 3, 1, 3, 1, 2, 1, 2, 3, 2], \"Freq\": [0.8914131673358983, 0.12254766140891177, 0.7352859684534706, 0.9559147847488507, 0.028115140727907374, 0.028115140727907374, 0.5989934791491494, 0.3850672365958817, 0.042785248510653524, 0.04690158856603393, 0.9380317713206786, 0.8926677832589819, 0.06619358562301772, 0.04066177402556803, 0.13188891158514948, 0.7913334695108969, 0.2664792898078695, 0.0888264299359565, 0.710611439487652, 0.7150243149361892, 0.9860701277957735, 0.013507809969805117, 0.9550539492411109, 0.03410906961575396, 0.1600349630604444, 0.8001748153022219, 0.8951078564309507, 0.06288066580911524, 0.9432099871367284, 0.03144033290455762, 0.9868555299299272, 0.006492470591644258, 0.012984941183288516, 0.15056581385056536, 0.7528290692528268, 0.984444062945653, 0.9747481987810753, 0.172609216624077, 0.863046083120385, 0.3827230121452767, 0.5953469077815415, 0.049621119295581946, 0.893180147320475, 0.9517792002682152, 0.8654657636493407, 0.44776542042722883, 0.559706775534036, 0.055970677553403604, 0.9900807671556999, 0.0049752802369633165, 0.0049752802369633165, 0.07126806311461092, 0.926484820489942, 0.1933743854824057, 0.7734975419296228, 0.796738609802018, 0.8597862897260058, 0.9251978570704015, 0.07116906592849243, 0.023723021976164143, 0.9922663393706863, 0.013056136044351135, 0.9469920443127366, 0.028696728615537473, 0.02374498264075781, 0.9735442882710701, 0.02374498264075781, 0.7946231825963593, 0.6977356093206877, 0.9699937014041429, 0.9652421418383701, 0.7488418140883881, 0.7970911875281913, 0.16093539150946096, 0.8046769575473047, 0.9768486667234925, 0.20328313922538432, 0.8131325569015373, 0.7594860132525606, 0.2169960037864459, 0.027124500473305738, 0.3329442706193866, 0.6658885412387732, 0.946445613840414, 0.028680170116376184, 0.028680170116376184, 0.7943518113342474, 0.2243807080397549, 0.6731421241192648, 0.03867833190531145, 0.9572887146564584, 0.004834791488163931, 0.8795693773899586, 0.02036196065914072, 0.9570121509796139, 0.02036196065914072, 0.8826007848614422, 0.10086866112702197, 0.8486558771707867, 0.8835786385798005, 0.1321408353367677, 0.9249858473573739, 0.11024724199702145, 0.8819779359761716, 0.7313868169117577, 0.24379560563725255, 0.03047445070465657, 0.9361564750175068, 0.969667822945078, 0.00906231610229045, 0.0181246322045809, 0.8290368432471923, 0.9172280353969634, 0.062184951552336505, 0.015546237888084126, 0.5921520527780605, 0.3947680351853736, 0.30720406050703253, 0.12288162420281303, 0.5836877149633618, 0.8480839864540564, 0.1474928672094011, 0.7907614578714608, 0.015206951112912707, 0.1976903644678652, 0.13357104971914863, 0.8014262983148916, 0.8629724999664895, 0.02096083751622211, 0.9641985257462171, 0.7626620379024314, 0.6348038054581495, 0.35707714057020906, 0.039675237841134345, 0.11515632341340762, 0.8060942638938534, 0.9183030430777485, 0.34510722307291897, 0.5751787051215317, 0.8792787577629569, 0.578789920881587, 0.3029180894333539, 0.12441278673155608, 0.6305724514297412, 0.3254567491250277, 0.04068209364062846, 0.9557410026137393, 0.03640918105195197, 0.009102295262987992, 0.17231628466881335, 0.7754232810096601, 0.9787106300061137, 0.009690204257486274, 0.009690204257486274, 0.9718246812498936, 0.8763773174667098, 0.011531280492983022, 0.11531280492983023, 0.39582160385405785, 0.01720963495017643, 0.5851275883059985, 0.20343746122451747, 0.7459373578232308, 0.11442140729443233, 0.9153712583554586, 0.9887186015019498, 0.009789293084177721, 0.004894646542088861, 0.06478793023713174, 0.9070310233198444, 0.9511251083686859, 0.9803407212960717, 0.8304388122805848, 0.7310895416455784, 0.24369651388185948, 0.9563967686528803, 0.030851508666221945, 0.030851508666221945, 0.8883295642436442, 0.932467723312404, 0.060813112389939396, 0.46381952283921474, 0.05797744035490184, 0.46381952283921474, 0.9680192928444151, 0.044000876947473413, 0.958663388356447, 0.04079418673857221, 0.9731977747327641, 0.012638932139386548, 0.012638932139386548, 0.7332270153270363, 0.8942378033072508, 0.11233043179484585, 0.8986434543587668, 0.8891646766104525, 0.13985694527203968, 0.839141671632238, 0.9374371827226078, 0.02603992174229466, 0.02603992174229466, 0.8292889065662153, 0.25211098226993417, 0.18908323670245064, 0.5672497101073519, 0.16637410361730495, 0.8318705180865248, 0.1770989307246886, 0.885494653623443, 0.957287392075255, 0.030880238454040487, 0.7249867633270057, 0.9339209558655632, 0.8245130966071473, 0.17357428630798244, 0.8678714315399122, 0.9520386165442177, 0.027201103329834792, 0.027201103329834792, 0.2565608996655013, 0.7696826989965038, 0.06975387530669368, 0.8719234413336711, 0.03487693765334684, 0.28629826506608963, 0.6680292851542091, 0.22116471387287462, 0.7740764985550611, 0.18950887619548762, 0.7580355047819505, 0.8464241740524481, 0.8783811986589464, 0.9678652159611494, 0.16023003428988383, 0.8011501714494191, 0.4290591868088724, 0.06129416954412462, 0.5516475258971216, 0.87498064885137, 0.9738814189522155, 0.019875130999024805, 0.4166455426014495, 0.5681530126383402, 0.03787686750922268, 0.972633931535611, 0.013508804604661263, 0.013508804604661263, 0.9686971390330619, 0.7106429746840999, 0.10528044069394071, 0.21056088138788143, 0.9761901906866206, 0.5807631046548717, 0.402066764761065, 0.07752337973191471, 0.9302805567829765, 0.8037448830523471, 0.10960157496168371, 0.09742362218816329, 0.5499188915653515, 0.4420916579250864, 0.010782723364026497, 0.9862009454307207, 0.9479004654380084, 0.024944749090473905, 0.024944749090473905, 0.9734290116593048, 0.011061693314310282, 0.011061693314310282, 0.5657464688643115, 0.37716431257620764, 0.03771643125762077, 0.9715378339428445, 0.8048115639670459, 0.17245962085008126, 0.09177555449952494, 0.9177555449952495, 0.1150539713220638, 0.9204317705765104, 0.6747668608302484, 0.30473342102011214, 0.9169195382876856, 0.044727782355496855, 0.044727782355496855, 0.8811022754808892], \"Term\": [\"12\", \"500mb\", \"500mb\", \"able\", \"able\", \"able\", \"access\", \"access\", \"access\", \"amazing\", \"amazing\", \"app\", \"app\", \"app\", \"apps\", \"apps\", \"automatically\", \"automatically\", \"automatically\", \"b4\", \"bad\", \"bad\", \"balance\", \"balance\", \"beneficiaries\", \"beneficiaries\", \"beneficiary\", \"best\", \"best\", \"best\", \"better\", \"better\", \"better\", \"birth\", \"birth\", \"bring\", \"buy\", \"calls\", \"calls\", \"card\", \"card\", \"cool\", \"cool\", \"couldn\", \"crying\", \"customer\", \"customer\", \"customer\", \"data\", \"data\", \"data\", \"developer\", \"developer\", \"dis\", \"dis\", \"disgusting\", \"display\", \"doesn\", \"doesn\", \"doesn\", \"don\", \"don\", \"downloaded\", \"downloaded\", \"easy\", \"easy\", \"easy\", \"effective\", \"ends\", \"error\", \"excellent\", \"exceptional\", \"exciting\", \"fake\", \"fake\", \"fantastic\", \"fast\", \"fast\", \"features\", \"features\", \"features\", \"fine\", \"fine\", \"fix\", \"fix\", \"fix\", \"friend\", \"gift\", \"gift\", \"good\", \"good\", \"good\", \"gooo\", \"great\", \"great\", \"great\", \"guys\", \"guys\", \"highly\", \"icon\", \"improvement\", \"improvement\", \"interesting\", \"interesting\", \"interface\", \"interface\", \"interface\", \"job\", \"just\", \"just\", \"just\", \"launch\", \"like\", \"like\", \"like\", \"link\", \"link\", \"linked\", \"linked\", \"linked\", \"log\", \"log\", \"login\", \"login\", \"login\", \"logs\", \"logs\", \"loud\", \"love\", \"love\", \"lovely\", \"make\", \"make\", \"make\", \"making\", \"making\", \"manageable\", \"means\", \"means\", \"media\", \"mtn\", \"mtn\", \"mtn\", \"network\", \"network\", \"network\", \"new\", \"new\", \"new\", \"ng\", \"ng\", \"nice\", \"nice\", \"nice\", \"nonsense\", \"number\", \"number\", \"number\", \"numbers\", \"numbers\", \"numbers\", \"ok\", \"ok\", \"okay\", \"okay\", \"old\", \"old\", \"old\", \"older\", \"older\", \"oops\", \"open\", \"operation\", \"option\", \"option\", \"otp\", \"otp\", \"otp\", \"perfect\", \"phone\", \"phone\", \"play\", \"play\", \"play\", \"pls\", \"pls\", \"poor\", \"poor\", \"previous\", \"previous\", \"previous\", \"problems\", \"profile\", \"puk\", \"puk\", \"punish\", \"quite\", \"quite\", \"really\", \"really\", \"really\", \"remove\", \"removed\", \"removed\", \"removed\", \"roll\", \"roll\", \"room\", \"room\", \"rubbish\", \"rubbish\", \"satisfactory\", \"seamless\", \"security\", \"sense\", \"sense\", \"sign\", \"sign\", \"sign\", \"signup\", \"signup\", \"sim\", \"sim\", \"sim\", \"simple\", \"simple\", \"slow\", \"slow\", \"small\", \"small\", \"smooth\", \"social\", \"star\", \"stop\", \"stop\", \"store\", \"store\", \"store\", \"superb\", \"terrible\", \"terrible\", \"thanks\", \"thanks\", \"thanks\", \"time\", \"time\", \"time\", \"trash\", \"try\", \"try\", \"try\", \"trying\", \"ui\", \"ui\", \"una\", \"una\", \"update\", \"update\", \"update\", \"use\", \"use\", \"use\", \"useless\", \"using\", \"using\", \"using\", \"version\", \"version\", \"version\", \"want\", \"want\", \"want\", \"waste\", \"way\", \"way\", \"wonder\", \"wonder\", \"wonderful\", \"wonderful\", \"work\", \"work\", \"working\", \"working\", \"working\", \"wow\"]}, \"R\": 30, \"lambda.step\": 0.01, \"plot.opts\": {\"xlab\": \"PC1\", \"ylab\": \"PC2\"}, \"topic.order\": [2, 1, 3]};\n",
              "\n",
              "function LDAvis_load_lib(url, callback){\n",
              "  var s = document.createElement('script');\n",
              "  s.src = url;\n",
              "  s.async = true;\n",
              "  s.onreadystatechange = s.onload = callback;\n",
              "  s.onerror = function(){console.warn(\"failed to load library \" + url);};\n",
              "  document.getElementsByTagName(\"head\")[0].appendChild(s);\n",
              "}\n",
              "\n",
              "if(typeof(LDAvis) !== \"undefined\"){\n",
              "   // already loaded: just create the visualization\n",
              "   !function(LDAvis){\n",
              "       new LDAvis(\"#\" + \"ldavis_el591399201387001124932963864\", ldavis_el591399201387001124932963864_data);\n",
              "   }(LDAvis);\n",
              "}else if(typeof define === \"function\" && define.amd){\n",
              "   // require.js is available: use it to load d3/LDAvis\n",
              "   require.config({paths: {d3: \"https://cdnjs.cloudflare.com/ajax/libs/d3/3.5.5/d3.min\"}});\n",
              "   require([\"d3\"], function(d3){\n",
              "      window.d3 = d3;\n",
              "      LDAvis_load_lib(\"https://cdn.rawgit.com/bmabey/pyLDAvis/files/ldavis.v1.0.0.js\", function(){\n",
              "        new LDAvis(\"#\" + \"ldavis_el591399201387001124932963864\", ldavis_el591399201387001124932963864_data);\n",
              "      });\n",
              "    });\n",
              "}else{\n",
              "    // require.js not available: dynamically load d3 & LDAvis\n",
              "    LDAvis_load_lib(\"https://cdnjs.cloudflare.com/ajax/libs/d3/3.5.5/d3.min.js\", function(){\n",
              "         LDAvis_load_lib(\"https://cdn.rawgit.com/bmabey/pyLDAvis/files/ldavis.v1.0.0.js\", function(){\n",
              "                 new LDAvis(\"#\" + \"ldavis_el591399201387001124932963864\", ldavis_el591399201387001124932963864_data);\n",
              "            })\n",
              "         });\n",
              "}\n",
              "</script>"
            ]
          },
          "metadata": {},
          "execution_count": 9
        }
      ]
    }
  ]
}